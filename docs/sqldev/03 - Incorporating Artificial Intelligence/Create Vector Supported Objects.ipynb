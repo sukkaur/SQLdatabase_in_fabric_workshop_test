{
 "cells": [
  {
   "attachments": {},
   "cell_type": "markdown",
   "metadata": {
    "azdata_cell_guid": "6c775883-18e6-46f1-af1f-318bbdc432a6"
   },
   "source": [
    "# T-SQL Scripts to create database objects leveraging vector"
   ]
  },
  {
   "attachments": {},
   "cell_type": "markdown",
   "metadata": {
    "azdata_cell_guid": "5a22930d-6dc4-44af-a1b2-a9df725676ff",
    "language": "sql"
   },
   "source": [
    "First, we will create stored procedures that can take a pre-generated embedding and update the appropriate row (identified by @id) with the provided embedding.  We do this for both speakers and sessions.  You will need to install the polyglot notebook extension in VS Code to run this."
   ]
  },
  {
   "cell_type": "code",
   "execution_count": 1,
   "metadata": {
    "dotnet_interactive": {
     "language": "csharp"
    },
    "polyglot_notebook": {
     "kernelName": "csharp"
    },
    "vscode": {
     "languageId": "polyglot-notebook"
    }
   },
   "outputs": [
    {
     "data": {
      "text/html": [
       "<div><div></div><div></div><div><strong>Installed Packages</strong><ul><li><span>Microsoft.DotNet.Interactive.SqlServer, 1.0.0-beta.24563.1</span></li></ul></div></div>"
      ]
     },
     "metadata": {},
     "output_type": "display_data"
    },
    {
     "data": {
      "text/plain": [
       "Loading extension script from `C:\\Users\\katsmith\\.nuget\\packages\\microsoft.dotnet.interactive.sqlserver\\1.0.0-beta.24563.1\\interactive-extensions\\dotnet\\extension.dib`"
      ]
     },
     "metadata": {},
     "output_type": "display_data"
    },
    {
     "data": {
      "text/html": [
       "<details><summary>Query Microsoft SQL Server databases.</summary>\r\n",
       "<p>This extension adds support for connecting to Microsoft SQL Server databases using the <code>#!connect mssql</code> magic command. For more information, run a cell using the <code>#!sql</code> magic command.</p>\r\n",
       "</details>"
      ]
     },
     "metadata": {},
     "output_type": "display_data"
    }
   ],
   "source": [
    "#r \"nuget:Microsoft.DotNet.Interactive.SqlServer,*-*\"\n"
   ]
  },
  {
   "cell_type": "code",
   "execution_count": 2,
   "metadata": {
    "dotnet_interactive": {
     "language": "csharp"
    },
    "polyglot_notebook": {
     "kernelName": "csharp"
    },
    "vscode": {
     "languageId": "polyglot-notebook"
    }
   },
   "outputs": [
    {
     "data": {
      "text/plain": [
       "Kernel added: #!sql-SessionsDB"
      ]
     },
     "metadata": {},
     "output_type": "display_data"
    }
   ],
   "source": [
    "#!connect mssql --kernel-name SessionsDB \"Data Source=x6eps4xrq2xudenlfv6naeo3i4-f5kss76426duzhm5wobzrpzfmi.msit-database.fabric.microsoft.com,1433;Initial Catalog=Sessions_database-78649ca8-cab7-4552-b099-28ade81e7832;Multiple Active Result Sets=False;Connect Timeout=30;Encrypt=True;Trust Server Certificate=False;Authentication=Active Directory Interactive\""
   ]
  },
  {
   "cell_type": "code",
   "execution_count": 3,
   "metadata": {
    "dotnet_interactive": {
     "language": "sql-SessionsDB"
    },
    "polyglot_notebook": {
     "kernelName": "sql-SessionsDB"
    },
    "vscode": {
     "languageId": "polyglot-notebook"
    }
   },
   "outputs": [
    {
     "data": {
      "text/plain": [
       "Commands completed successfully."
      ]
     },
     "metadata": {},
     "output_type": "display_data"
    }
   ],
   "source": [
    "-- Simply updates the session embedding with the embedding passed in.\n",
    "create or alter procedure update_session_embeddings\n",
    "@id int,\n",
    "/** \n",
    "    Due to a bug, we are currently using Varchar(MAX).\n",
    "    Once the bug is fixed, use Vector(1536) like you would expect.\n",
    "**/  \n",
    "@in_embeddings Varchar(MAX) /** Vector(1536) **/\n",
    "as\n",
    "\n",
    "update \n",
    "    sessions \n",
    "set \n",
    "\n",
    "    embeddings = @in_embeddings,\n",
    "    require_embeddings_update = 0\n",
    "where   \n",
    "    id = @id\n",
    "\n",
    "GO"
   ]
  },
  {
   "cell_type": "code",
   "execution_count": 4,
   "metadata": {
    "dotnet_interactive": {
     "language": "sql-SessionsDB"
    },
    "polyglot_notebook": {
     "kernelName": "sql-SessionsDB"
    },
    "vscode": {
     "languageId": "polyglot-notebook"
    }
   },
   "outputs": [
    {
     "data": {
      "text/plain": [
       "Commands completed successfully."
      ]
     },
     "metadata": {},
     "output_type": "display_data"
    }
   ],
   "source": [
    "-- Simply updates speaker embedding with embedding passed in\n",
    "create or alter procedure update_speaker_embeddings\n",
    "@id int,\n",
    "/** \n",
    "    Due to a bug, we are currently using Varchar(MAX).\n",
    "    Once the bug is fixed, use Vector(1536) like you would expect.\n",
    "**/  \n",
    "@in_embeddings Varchar(MAX) /** Vector(1536) **/\n",
    "as\n",
    "\n",
    "update \n",
    "   speakers \n",
    "set \n",
    "    embeddings = @in_embeddings,\n",
    "    require_embeddings_update = 0\n",
    "where   \n",
    "    id = @id\n",
    "    \n",
    "GO"
   ]
  },
  {
   "attachments": {},
   "cell_type": "markdown",
   "metadata": {
    "azdata_cell_guid": "cee6769f-54fe-4bce-945a-84b882d7f4bf"
   },
   "source": [
    "Now we create simple stored procedures that will look through the entire sessions and speakers tables, respectively - for every entry that requires an embeddings update, we will generate the embedding and update the row.  Note: this code is written for clarity, not necessarily for production purposes."
   ]
  },
  {
   "cell_type": "code",
   "execution_count": 5,
   "metadata": {
    "dotnet_interactive": {
     "language": "sql-SessionsDB"
    },
    "polyglot_notebook": {
     "kernelName": "sql-SessionsDB"
    },
    "vscode": {
     "languageId": "polyglot-notebook"
    }
   },
   "outputs": [
    {
     "data": {
      "text/plain": [
       "Commands completed successfully."
      ]
     },
     "metadata": {},
     "output_type": "display_data"
    }
   ],
   "source": [
    "-- Update all sessions\n",
    "\n",
    "create or alter procedure update_all_sessions\n",
    "\n",
    "as\n",
    "begin\n",
    "\n",
    "set nocount on;\n",
    "\n",
    "declare @id int, @abstract NVARCHAR(max),  @message NVARCHAR(max)\n",
    "\n",
    "declare session_cursor cursor FAST_FORWARD READ_ONLY\n",
    "for select id, abstract from sessions \n",
    "where require_embeddings_update = 1\n",
    "order by id\n",
    "\n",
    "open session_cursor\n",
    "\n",
    "fetch next from session_cursor\n",
    "INTO @id, @abstract\n",
    "\n",
    "while @@FETCH_STATUS = 0\n",
    "begin\n",
    "\n",
    "  declare @retval int, @embedding Vector(1536);\n",
    "  -- Call the get_embedding stored procedure to retrieve an abstract embedding\n",
    "  exec @retval = get_embedding @abstract, @embedding OUTPUT\n",
    "\n",
    "  -- Call the update_session_embeddings stored procedure to update the session embeddings\n",
    "  exec @retval = update_session_embeddings @id, @embedding\n",
    "\n",
    "fetch next from session_cursor\n",
    "INTO @id, @abstract\n",
    "\n",
    "end\n",
    "close session_cursor\n",
    "deallocate session_cursor\n",
    "\n",
    "end\n",
    "GO"
   ]
  },
  {
   "cell_type": "code",
   "execution_count": 6,
   "metadata": {
    "dotnet_interactive": {
     "language": "sql-SessionsDB"
    },
    "polyglot_notebook": {
     "kernelName": "sql-SessionsDB"
    },
    "vscode": {
     "languageId": "polyglot-notebook"
    }
   },
   "outputs": [
    {
     "data": {
      "text/plain": [
       "Commands completed successfully."
      ]
     },
     "metadata": {},
     "output_type": "display_data"
    }
   ],
   "source": [
    "-- Update all speakers\n",
    "\n",
    "create or alter procedure update_all_speakers\n",
    "\n",
    "as\n",
    "begin\n",
    "\n",
    "set nocount on;\n",
    "\n",
    "declare @id int, @full_name NVARCHAR(100),  @message NVARCHAR(max)\n",
    "\n",
    "declare speaker_cursor cursor FAST_FORWARD READ_ONLY\n",
    "for select id, full_name from speakers \n",
    "where require_embeddings_update = 1\n",
    "order by id\n",
    "\n",
    "open speaker_cursor\n",
    "\n",
    "fetch next from speaker_cursor\n",
    "INTO @id, @full_name\n",
    "\n",
    "while @@FETCH_STATUS = 0\n",
    "begin\n",
    "\n",
    "  declare @retval int, @embedding Vector(1536);\n",
    "  -- Call the get_embedding stored procedure to retrieve an abstract embedding\n",
    "  exec @retval = get_embedding @full_name, @embedding OUTPUT\n",
    "\n",
    "  -- Call the update_session_embeddings stored procedure to update the session embeddings\n",
    "  exec @retval = update_speaker_embeddings @id, @embedding\n",
    "\n",
    "fetch next from speaker_cursor\n",
    "INTO @id, @full_name\n",
    "\n",
    "end\n",
    "close speaker_cursor\n",
    "deallocate speaker_cursor\n",
    "\n",
    "end\n",
    "go"
   ]
  },
  {
   "cell_type": "markdown",
   "metadata": {},
   "source": [
    "Select from these tables to see that embeddings need to be generated"
   ]
  },
  {
   "cell_type": "code",
   "execution_count": 7,
   "metadata": {
    "dotnet_interactive": {
     "language": "sql-SessionsDB"
    },
    "polyglot_notebook": {
     "kernelName": "sql-SessionsDB"
    },
    "vscode": {
     "languageId": "polyglot-notebook"
    }
   },
   "outputs": [
    {
     "data": {
      "text/plain": [
       "(4 rows affected)"
      ]
     },
     "metadata": {},
     "output_type": "display_data"
    },
    {
     "data": {
      "text/plain": [
       "(4 rows affected)"
      ]
     },
     "metadata": {},
     "output_type": "display_data"
    },
    {
     "data": {
      "text/csv": [
       "title,embeddings_vector\r\n",
       "\"Reducing Plastic Waste: Community-Led Initiatives\",\r\n",
       "\"Robotics for Everyday Life: Innovations and Applications\",\r\n",
       "\"Medieval European History: Uncovering the Past\",\r\n",
       "\"Innovations in Cancer Treatment: A Biomedical Researcher's Perspective\",\r\n"
      ],
      "text/html": [
       "<table><thead><tr><td><span>title</span></td><td><span>embeddings_vector</span></td></tr></thead><tbody><tr><td>Reducing Plastic Waste: Community-Led Initiatives</td><td><div class=\"dni-plaintext\"><pre>&lt;null&gt;</pre></div></td></tr><tr><td>Robotics for Everyday Life: Innovations and Applications</td><td><div class=\"dni-plaintext\"><pre>&lt;null&gt;</pre></div></td></tr><tr><td>Medieval European History: Uncovering the Past</td><td><div class=\"dni-plaintext\"><pre>&lt;null&gt;</pre></div></td></tr><tr><td>Innovations in Cancer Treatment: A Biomedical Researcher&#39;s Perspective</td><td><div class=\"dni-plaintext\"><pre>&lt;null&gt;</pre></div></td></tr></tbody></table><style>\r\n",
       ".dni-code-hint {\r\n",
       "    font-style: italic;\r\n",
       "    overflow: hidden;\r\n",
       "    white-space: nowrap;\r\n",
       "}\r\n",
       ".dni-treeview {\r\n",
       "    white-space: nowrap;\r\n",
       "}\r\n",
       ".dni-treeview td {\r\n",
       "    vertical-align: top;\r\n",
       "    text-align: start;\r\n",
       "}\r\n",
       "details.dni-treeview {\r\n",
       "    padding-left: 1em;\r\n",
       "}\r\n",
       "table td {\r\n",
       "    text-align: start;\r\n",
       "}\r\n",
       "table tr { \r\n",
       "    vertical-align: top; \r\n",
       "    margin: 0em 0px;\r\n",
       "}\r\n",
       "table tr td pre \r\n",
       "{ \r\n",
       "    vertical-align: top !important; \r\n",
       "    margin: 0em 0px !important;\r\n",
       "} \r\n",
       "table th {\r\n",
       "    text-align: start;\r\n",
       "}\r\n",
       "</style>"
      ]
     },
     "metadata": {},
     "output_type": "display_data"
    },
    {
     "data": {
      "text/csv": [
       "full_name,embeddings_vector\r\n",
       "\"Amina El-Sayed\",\r\n",
       "\"Hiroshi Tanaka\",\r\n",
       "\"Liam O'Connor\",\r\n",
       "\"Priya Patel\",\r\n"
      ],
      "text/html": [
       "<table><thead><tr><td><span>full_name</span></td><td><span>embeddings_vector</span></td></tr></thead><tbody><tr><td>Amina El-Sayed</td><td><div class=\"dni-plaintext\"><pre>&lt;null&gt;</pre></div></td></tr><tr><td>Hiroshi Tanaka</td><td><div class=\"dni-plaintext\"><pre>&lt;null&gt;</pre></div></td></tr><tr><td>Liam O&#39;Connor</td><td><div class=\"dni-plaintext\"><pre>&lt;null&gt;</pre></div></td></tr><tr><td>Priya Patel</td><td><div class=\"dni-plaintext\"><pre>&lt;null&gt;</pre></div></td></tr></tbody></table><style>\r\n",
       ".dni-code-hint {\r\n",
       "    font-style: italic;\r\n",
       "    overflow: hidden;\r\n",
       "    white-space: nowrap;\r\n",
       "}\r\n",
       ".dni-treeview {\r\n",
       "    white-space: nowrap;\r\n",
       "}\r\n",
       ".dni-treeview td {\r\n",
       "    vertical-align: top;\r\n",
       "    text-align: start;\r\n",
       "}\r\n",
       "details.dni-treeview {\r\n",
       "    padding-left: 1em;\r\n",
       "}\r\n",
       "table td {\r\n",
       "    text-align: start;\r\n",
       "}\r\n",
       "table tr { \r\n",
       "    vertical-align: top; \r\n",
       "    margin: 0em 0px;\r\n",
       "}\r\n",
       "table tr td pre \r\n",
       "{ \r\n",
       "    vertical-align: top !important; \r\n",
       "    margin: 0em 0px !important;\r\n",
       "} \r\n",
       "table th {\r\n",
       "    text-align: start;\r\n",
       "}\r\n",
       "</style>"
      ]
     },
     "metadata": {},
     "output_type": "display_data"
    }
   ],
   "source": [
    "select title, CAST(embeddings as  VARCHAR(MAX)) as embeddings_vector\n",
    "from Sessions\n",
    "where require_embeddings_update = 1\n",
    "\n",
    "select full_name, CAST(embeddings as  VARCHAR(MAX)) as embeddings_vector\n",
    "from speakers\n",
    "where require_embeddings_update = 1"
   ]
  },
  {
   "attachments": {},
   "cell_type": "markdown",
   "metadata": {
    "azdata_cell_guid": "50e7c454-7075-48f5-a90b-43beb51f37d8"
   },
   "source": [
    "Now, we can call these two stored procedures to demonstrate that they do update the sessions and speakers already entered - this should update the current data appropriately."
   ]
  },
  {
   "cell_type": "code",
   "execution_count": 8,
   "metadata": {
    "dotnet_interactive": {
     "language": "sql-SessionsDB"
    },
    "polyglot_notebook": {
     "kernelName": "sql-SessionsDB"
    },
    "vscode": {
     "languageId": "polyglot-notebook"
    }
   },
   "outputs": [
    {
     "data": {
      "text/plain": [
       "Commands completed successfully."
      ]
     },
     "metadata": {},
     "output_type": "display_data"
    }
   ],
   "source": [
    "-- Update existing data with embeddings\n",
    "exec update_all_sessions\n",
    "\n",
    "exec update_all_speakers"
   ]
  },
  {
   "cell_type": "markdown",
   "metadata": {},
   "source": [
    "Select from the tables again - we can see that the embeddings have been generated"
   ]
  },
  {
   "cell_type": "code",
   "execution_count": 9,
   "metadata": {
    "dotnet_interactive": {
     "language": "sql-SessionsDB"
    },
    "polyglot_notebook": {
     "kernelName": "sql-SessionsDB"
    },
    "vscode": {
     "languageId": "polyglot-notebook"
    }
   },
   "outputs": [
    {
     "data": {
      "text/plain": [
       "(4 rows affected)"
      ]
     },
     "metadata": {},
     "output_type": "display_data"
    },
    {
     "data": {
      "text/plain": [
       "(4 rows affected)"
      ]
     },
     "metadata": {},
     "output_type": "display_data"
    },
    {
     "data": {
      "text/csv": [
       "title,embeddings_string_prefix\r\n",
       "\"Reducing Plastic Waste: Community-Led Initiatives\",[1.3763197\r\n",
       "\"Robotics for Everyday Life: Innovations and Applications\",[-1.545385\r\n",
       "\"Medieval European History: Uncovering the Past\",[9.1628600\r\n",
       "\"Innovations in Cancer Treatment: A Biomedical Researcher's Perspective\",[6.3478379\r\n"
      ],
      "text/html": [
       "<table><thead><tr><td><span>title</span></td><td><span>embeddings_string_prefix</span></td></tr></thead><tbody><tr><td>Reducing Plastic Waste: Community-Led Initiatives</td><td>[1.3763197</td></tr><tr><td>Robotics for Everyday Life: Innovations and Applications</td><td>[-1.545385</td></tr><tr><td>Medieval European History: Uncovering the Past</td><td>[9.1628600</td></tr><tr><td>Innovations in Cancer Treatment: A Biomedical Researcher&#39;s Perspective</td><td>[6.3478379</td></tr></tbody></table><style>\r\n",
       ".dni-code-hint {\r\n",
       "    font-style: italic;\r\n",
       "    overflow: hidden;\r\n",
       "    white-space: nowrap;\r\n",
       "}\r\n",
       ".dni-treeview {\r\n",
       "    white-space: nowrap;\r\n",
       "}\r\n",
       ".dni-treeview td {\r\n",
       "    vertical-align: top;\r\n",
       "    text-align: start;\r\n",
       "}\r\n",
       "details.dni-treeview {\r\n",
       "    padding-left: 1em;\r\n",
       "}\r\n",
       "table td {\r\n",
       "    text-align: start;\r\n",
       "}\r\n",
       "table tr { \r\n",
       "    vertical-align: top; \r\n",
       "    margin: 0em 0px;\r\n",
       "}\r\n",
       "table tr td pre \r\n",
       "{ \r\n",
       "    vertical-align: top !important; \r\n",
       "    margin: 0em 0px !important;\r\n",
       "} \r\n",
       "table th {\r\n",
       "    text-align: start;\r\n",
       "}\r\n",
       "</style>"
      ]
     },
     "metadata": {},
     "output_type": "display_data"
    },
    {
     "data": {
      "text/csv": [
       "full_name,embeddings_string_prefix\r\n",
       "\"Amina El-Sayed\",[-2.515922\r\n",
       "\"Hiroshi Tanaka\",[-8.858545\r\n",
       "\"Liam O'Connor\",[-4.204304\r\n",
       "\"Priya Patel\",[1.1320229\r\n"
      ],
      "text/html": [
       "<table><thead><tr><td><span>full_name</span></td><td><span>embeddings_string_prefix</span></td></tr></thead><tbody><tr><td>Amina El-Sayed</td><td>[-2.515922</td></tr><tr><td>Hiroshi Tanaka</td><td>[-8.858545</td></tr><tr><td>Liam O&#39;Connor</td><td>[-4.204304</td></tr><tr><td>Priya Patel</td><td>[1.1320229</td></tr></tbody></table><style>\r\n",
       ".dni-code-hint {\r\n",
       "    font-style: italic;\r\n",
       "    overflow: hidden;\r\n",
       "    white-space: nowrap;\r\n",
       "}\r\n",
       ".dni-treeview {\r\n",
       "    white-space: nowrap;\r\n",
       "}\r\n",
       ".dni-treeview td {\r\n",
       "    vertical-align: top;\r\n",
       "    text-align: start;\r\n",
       "}\r\n",
       "details.dni-treeview {\r\n",
       "    padding-left: 1em;\r\n",
       "}\r\n",
       "table td {\r\n",
       "    text-align: start;\r\n",
       "}\r\n",
       "table tr { \r\n",
       "    vertical-align: top; \r\n",
       "    margin: 0em 0px;\r\n",
       "}\r\n",
       "table tr td pre \r\n",
       "{ \r\n",
       "    vertical-align: top !important; \r\n",
       "    margin: 0em 0px !important;\r\n",
       "} \r\n",
       "table th {\r\n",
       "    text-align: start;\r\n",
       "}\r\n",
       "</style>"
      ]
     },
     "metadata": {},
     "output_type": "display_data"
    }
   ],
   "source": [
    "select title, substring(cast(embeddings as  VARCHAR(MAX)), 1, 10) as embeddings_string_prefix\n",
    "from Sessions\n",
    "\n",
    "select full_name, substring(cast(embeddings as  VARCHAR(MAX)), 1, 10) as embeddings_string_prefix\n",
    "from Speakers"
   ]
  },
  {
   "attachments": {},
   "cell_type": "markdown",
   "metadata": {
    "azdata_cell_guid": "420cc9f5-36ae-4441-aba7-78bf96bbf98a"
   },
   "source": [
    "To keep things updated as we move forward - we need to create triggers that will ensure new data has up-to-date embeddings.  \n",
    "Note that instead of calling the procedures just created, we define the trigger to operate over the inserted set of rows only."
   ]
  },
  {
   "cell_type": "code",
   "execution_count": 11,
   "metadata": {
    "dotnet_interactive": {
     "language": "sql-SessionsDB"
    },
    "polyglot_notebook": {
     "kernelName": "sql-SessionsDB"
    },
    "vscode": {
     "languageId": "polyglot-notebook"
    }
   },
   "outputs": [
    {
     "data": {
      "text/plain": [
       "Commands completed successfully."
      ]
     },
     "metadata": {},
     "output_type": "display_data"
    }
   ],
   "source": [
    "/**\n",
    "Create a trigger for sessions\n",
    "**/\n",
    "\n",
    "create or alter trigger GetSessionEmbeddingsOnInsert\n",
    "on sessions\n",
    "after insert\n",
    "as\n",
    "\n",
    "declare session_cursor cursor FAST_FORWARD READ_ONLY\n",
    "\n",
    "\n",
    "-- Note here that we are just operating over the inserted rows\n",
    "for select id, abstract from inserted\n",
    "where require_embeddings_update = 1\n",
    "order by id\n",
    "\n",
    "\n",
    "set nocount on;\n",
    "\n",
    "declare @id int, @abstract NVARCHAR(max),  @message NVARCHAR(max)\n",
    "\n",
    "open session_cursor\n",
    "\n",
    "fetch next from session_cursor\n",
    "INTO @id, @abstract\n",
    "\n",
    "while @@FETCH_STATUS = 0\n",
    "begin\n",
    "\n",
    "   declare @retval int, @embedding Vector(1536);\n",
    "  -- Call the get_embedding stored procedure to retrieve an abstract embedding\n",
    "  exec @retval = get_embedding @abstract, @embedding OUTPUT\n",
    "\n",
    "  -- Call the update_session_embeddings stored procedure to update the session embeddings\n",
    "  exec @retval = update_session_embeddings @id, @embedding\n",
    "\n",
    "  fetch next from session_cursor\n",
    "INTO @id, @abstract\n",
    "\n",
    "end\n",
    "close session_cursor\n",
    "deallocate session_cursor\n",
    "\n"
   ]
  },
  {
   "cell_type": "code",
   "execution_count": 12,
   "metadata": {
    "dotnet_interactive": {
     "language": "sql-SessionsDB"
    },
    "polyglot_notebook": {
     "kernelName": "sql-SessionsDB"
    },
    "vscode": {
     "languageId": "polyglot-notebook"
    }
   },
   "outputs": [
    {
     "data": {
      "text/plain": [
       "Commands completed successfully."
      ]
     },
     "metadata": {},
     "output_type": "display_data"
    }
   ],
   "source": [
    "/**  \n",
    "Create a trigger for speakers\n",
    "**/\n",
    "create or alter trigger GetSpeakerEmbeddingsOnInsert\n",
    "on speakers\n",
    "after insert\n",
    "as\n",
    "\n",
    "declare speaker_cursor cursor FAST_FORWARD READ_ONLY\n",
    "\n",
    "-- Notice here that we are just operating over inserted rows.\n",
    "for select id, full_name from inserted\n",
    "where require_embeddings_update = 1\n",
    "order by id\n",
    "\n",
    "set nocount on;\n",
    "\n",
    "declare @id int, @full_name NVARCHAR(100),  @message NVARCHAR(max)\n",
    "\n",
    "open speaker_cursor\n",
    "\n",
    "fetch next from speaker_cursor\n",
    "INTO @id, @full_name\n",
    "\n",
    "while @@FETCH_STATUS = 0\n",
    "begin\n",
    "\n",
    "   declare @retval int, @embedding Vector(1536);\n",
    "  -- Call the get_embedding stored procedure to retrieve an abstract embedding\n",
    "  exec @retval = get_embedding @full_name, @embedding OUTPUT\n",
    "\n",
    "  -- Call the update_speaker_embeddings stored procedure to update the session embeddings\n",
    "  exec @retval = update_speaker_embeddings @id, @embedding\n",
    "\n",
    "  fetch next from speaker_cursor\n",
    "INTO @id, @full_name\n",
    "\n",
    "end\n",
    "close speaker_cursor\n",
    "deallocate speaker_cursor\n"
   ]
  }
 ],
 "metadata": {
  "kernelspec": {
   "display_name": ".NET (C#)",
   "language": "C#",
   "name": ".net-csharp"
  },
  "language_info": {
   "name": "sql",
   "version": ""
  },
  "polyglot_notebook": {
   "kernelInfo": {
    "defaultKernelName": "csharp",
    "items": [
     {
      "aliases": [],
      "name": "csharp"
     },
     {
      "aliases": [],
      "languageName": "T-SQL",
      "name": "sql-SessionsDB"
     },
     {
      "aliases": [],
      "languageName": "T-SQL",
      "name": "sql-SessionsFinderDB"
     }
    ]
   }
  }
 },
 "nbformat": 4,
 "nbformat_minor": 2
}
